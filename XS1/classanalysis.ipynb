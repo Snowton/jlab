{
 "cells": [
  {
   "cell_type": "code",
   "execution_count": 72,
   "metadata": {},
   "outputs": [],
   "source": [
    "import matplotlib.pyplot as plt\n",
    "import numpy as np\n",
    "import scipy.stats as stats\n",
    "from scipy.special import factorial\n",
    "import math\n",
    "# import csv\n",
    "from matplotlib import rc, rcParams"
   ]
  },
  {
   "cell_type": "code",
   "execution_count": null,
   "metadata": {},
   "outputs": [],
   "source": [
    "with open('DorothyFileC050.txt', mode ='r') as file: # \"ElsieWiddowsonFileC051.txt\"\n",
    "    line = file.readline()\n",
    "    while line[0] == \"#\":\n",
    "        print(\"HEADER\" + line)\n",
    "        line = file.readline()\n",
    "        # print header\n",
    "    # Check to make sure first line of data is correct\n",
    "    data1 = [line.split(sep=\"\\t\")]\n",
    "    print(\"First line of data in file: \" + str(data1))\n",
    "    data1[0][3] = int(data1[0][3])\n",
    "    # Check time is at this index\n",
    "    time = data1[0][3]\n",
    "    numIntervals = 1000\n",
    "    intervalTime = 1 #Range in seconds\n",
    "\n",
    "    # Alex 18/09 NOTE This function will crash for index out of range, and may run indefinitely in the case of data with bad time.\n",
    "    while time < (numIntervals * intervalTime * 1000): # Data is in ms \n",
    "        data1 += [file.readline().split()]\n",
    "        data1[-1][3] = int(data1[-1][3])\n",
    "        time = data1[-1][3]\n",
    "\n",
    "# Bin function graciously borrowed from pythonForJLAB https://github.mit.edu/juniorlab/Python-Intro/blob/master/pythonForJLAB.ipynb\n",
    "\n",
    "# Take out zero bins. The discussion for why I do this is beyond the scope of this intro, ask the instructors\n",
    "# It's not important to know what's going on in this function if you don't want to know.\n",
    "# If you do want to know, you'll have to think about it\n",
    "# Alex 18/09 For a time interval of 10s, its really unlikely that we will get empty bins but we should do this for robustness.\n",
    "def delete_zeros(bins,counts,err):\n",
    "    '''\n",
    "    Inputs:\n",
    "    bins = the frequency bin centers\n",
    "    counts = the frequency data\n",
    "    err = the error data\n",
    "    Output:\n",
    "    new_bins = bin centers, but if the frequency of a bin center is zero the bin is removed\n",
    "    new_counts = frequency data, but if \"                    \"\n",
    "    new_err = error data, but if \"                       \"\n",
    "    '''\n",
    "    zeros = np.where(counts==0) # Find the indices where the frequency data is zero\n",
    "    mask = np.ones(len(counts),dtype=bool) # create a mask of True values\n",
    "    mask[zeros[0]] = False # Turn the zero parts of the mask False\n",
    "    new_counts = counts[mask] # Recreate the bin data without the False parts\n",
    "    new_bins = bins[mask] # Recreate the frequency data without the False parts\n",
    "    new_err = err[mask] # Recrete the \"      \"\n",
    "    return new_bins, new_counts, new_err\n",
    "\n",
    "print(len(data1))\n",
    "print(\"First data point at : \" + str(data1[0]))\n",
    "print(\"Last data point at : \" + str(data1[-1]))\n",
    "\n",
    "ind = 0\n",
    "bin_counts = []\n",
    "bin_edges_1 = np.arange(0,numIntervals + 1)\n",
    "for interval in range(1, numIntervals + 1):\n",
    "    count = 0\n",
    "    while data1[ind][3] < interval * 1000 * intervalTime:\n",
    "        count += 1\n",
    "        ind += 1\n",
    "\n",
    "    bin_counts += [count]\n",
    "\n",
    "\n",
    "\n",
    "print(bin_counts)\n",
    "plt.rcParams[\"figure.figsize\"] = (15,3)\n",
    "print(bin_counts)\n",
    "# plt.bar takes bin centers as its arg, not edges.\n",
    "plt.bar(np.arange(0,numIntervals) + np.ones(numIntervals)*0.5, bin_counts, width = 1)\n",
    "plt.xlabel(r'Time (10s)', fontsize=20, labelpad=20)\n",
    "plt.ylabel(r'Count in bin', fontsize=20)\n",
    "plt.show()\n",
    "\n",
    "# lines = [line.strip() for line in lines]\n",
    "# data = [int(line) for line in lines if line.isdigit()]\n",
    "# print(data)"
   ]
  },
  {
   "cell_type": "code",
   "execution_count": 74,
   "metadata": {},
   "outputs": [],
   "source": [
    "# Plotting cumulative mean and demonstrating the reduction in error\n",
    "cumulativeaverage = np.cumsum(bin_counts) / np.arange(1, numIntervals + 1)\n",
    "# For Poisson, Var = mean. \n",
    "stds = np.sqrt(cumulativeaverage / np.arange(1, numIntervals + 1))"
   ]
  },
  {
   "cell_type": "code",
   "execution_count": null,
   "metadata": {},
   "outputs": [],
   "source": [
    "plt.errorbar(np.arange(1, numIntervals+1), cumulativeaverage, yerr = stds, lw=0.3)\n",
    "plt.show()"
   ]
  },
  {
   "cell_type": "code",
   "execution_count": null,
   "metadata": {},
   "outputs": [],
   "source": [
    "binedges = np.linspace(0, 50, 30)\n",
    "binvalues = plt.hist(bin_counts, binedges)\n",
    "\n",
    "# Also from PythonForJLAB\n",
    "def poisson(x, lam, a):\n",
    "    '''\n",
    "    Inputs:\n",
    "    a = normalization constant\n",
    "    x = corresponding number of events, should be an array\n",
    "    lam = expected value, which is equal to the variance for poisson distribution\n",
    "    Outputs: probability of x number of events occuring, scaled by constant a\n",
    "    '''\n",
    "    return a * lam**x * np.exp(-lam)/factorial(x)\n",
    "\n",
    "x = np.linspace(0, 45, 256)\n",
    "plt.plot(x, poisson(x, cumulativeaverage[-1], numIntervals * 50 / 29))\n",
    "plt.show()"
   ]
  },
  {
   "cell_type": "code",
   "execution_count": 77,
   "metadata": {},
   "outputs": [],
   "source": [
    "#np.sum((poisson(bincenters, cumulativeaverage[-1], numIntervals * 50 / 29) - binvalues[0]) ** 2 / ((np.sqrt(cumulativeaverage[-1])) ** 2))"
   ]
  },
  {
   "cell_type": "code",
   "execution_count": null,
   "metadata": {},
   "outputs": [],
   "source": [
    "len(binvalues[0])"
   ]
  },
  {
   "cell_type": "code",
   "execution_count": null,
   "metadata": {},
   "outputs": [],
   "source": []
  }
 ],
 "metadata": {
  "kernelspec": {
   "display_name": "base",
   "language": "python",
   "name": "python3"
  },
  "language_info": {
   "codemirror_mode": {
    "name": "ipython",
    "version": 3
   },
   "file_extension": ".py",
   "mimetype": "text/x-python",
   "name": "python",
   "nbconvert_exporter": "python",
   "pygments_lexer": "ipython3",
   "version": "3.12.0"
  }
 },
 "nbformat": 4,
 "nbformat_minor": 2
}
