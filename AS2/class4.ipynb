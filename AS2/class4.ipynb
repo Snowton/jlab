{
 "cells": [
  {
   "cell_type": "code",
   "execution_count": 22,
   "metadata": {},
   "outputs": [
    {
     "name": "stdout",
     "output_type": "stream",
     "text": [
      "15.7\n",
      "                                                       55              69 70                                                                                                                            194                                                                                                                                                                      \n",
      "                                                       55              69 70                                                                                                                            194                                                                                                                                                                      \n",
      "0.6550593740700272\n",
      "9.748394962805582\n",
      "1600435711.9436693\n",
      "(23, 0.0049254441424099)\n",
      "2.5e-05 9.74838\n",
      "0.0008170535721418443\n",
      "9.803340642568628\n",
      "[0.39507119611533315, 0.26925824035672524, 0.0282842712474619, 0.13098091464026354, 0.00806225774829855, 0.47, 0.02, 0.12206555615733704, 0.008005623023850173, 0.45, 0.005099019513592785, 0.02, 0.01, 0.08944271909999159, 0.32266118452643167, 0.204, 0.03, 0.007, 0.0077, 0.031400636936215164, 0.1902629759044045, 0.24797782158894774, 0.15076, 0.0049254441424099, 0.19901004999748126, 0.59, 0.19, 0.00806225774829855, 0.08052328855678959, 0.04, 0.67, 0.49, 1.392838827718412, 0.4, 0.17, 0.66, 0.34, 0.15, 0.03, 0.87, 0.1, 0.5, 0.108, 0.04, 0.26627053911388693, 0.98, 0.6, 0.447213595499958, 0.2038, 1.7755280904564703, 0.114, 0.43, 0.082, 0.04, 0.27, 0.318, 0.387, 0.173, 0.03, 0.161245154965971, 0.06, 0.08, 0.05, 0.22, 0.19, 0.011, 5.3, 0.15, 0.13, 0.17, 0.050990195135927854, 0.01, 0.36124783736376886, 0.09552486587271401, 0.141088624630053, 0.276, 0.21095023109728986, 0.915, 0.5852349955359812, 0.6, 0.35, 0.16278820596099705, 0.10782564066120823, 0.061, 0.98, 1.7755280904564703, 0.26627053911388693, 0.04, 1.019803902718557, 0.16, 0.09, 0.21, 0.03, 0.050990195135927854, 0.22561028345356957, 0.318, 0.09433981132056604, 0.026925824035672518, 0.046, 0.0293, 0.444, 0.03301514803843836, 0.08, 0.018027756377319945, 0.24186773244895649, 0.62, 0.61, 0.44, 0.05385164807134505, 0.05830951894845301, 0.6837680600905545, 2.928628551, 0.2, 0.91, 0.2280350850198276, 0.19, 1.59, 0.21, 0.14, 0.18, 0.01, 0.01, 0.37, 0.14, 0.1, 0.7, 1.0, 0.45, 0.15, 0.22044280981696815, 1.0431682510506155, 0.019611, 0.12041594578792295, 0.13453624047073712, 0.22073513539987238, 1.2886038956948718, 0.050990195135927854, 0.14, 0.24186773244895649, 0.06, 0.93, 0.018, 0.21, 0.21, 0.16000312496948302, 0.07, 0.14, 0.1, 2.0, 0.548, 0.104, 0.839561695, 0.5108815909777921, 1.6492422502470645, 0.1, 0.03, 1.08, 0.1, 0.04, 0.2, 0.9, 0.08, 0.3, 0.724, 0.29, 0.127, 1.6, 0.32280024783137945, 0.3, 0.52, 0.356, 0.29, 0.31, 0.94, 0.147, 0.11, 0.29, 0.4459820624195551, 0.03, 0.06576473218982953, 0.11764352935882194, 0.1515585695366646, 0.07494664769020692, 0.09219544457292887, 0.11233806122592645, 0.050990195135927854, 0.015, 0.043000196511178874, 0.01, 0.18, 0.022360679774997897, 0.129, 0.009848857801796104, 0.04, 0.007, 0.13, 0.054, 0.04, 0.02690724809414742, 0.05, 0.23, 0.17, 0.02, 0.019798989873223333, 0.5, 0.663783097103263, 0.22561028345356957, 0.32649655434629016, 0.015402921800749364, 0.04263801121065569, 0.130384048104053, 0.25, 0.37, 0.255, 0.35, 0.51, 0.14, 0.16, 0.6, 2.0, 3.9, 0.14, 0.4909175083453431, 0.36, 0.3, 1.3, 0.13, 0.23, 0.02039607805437114, 0.21, 0.37606330584091824, 0.00505, 0.008, 0.3301514803843836, 0.04404543109109048, 0.011, 0.06, 1.8012023761920815, 0.16492422502470644, 0.10300485425454473, 0.24175000000000002, 0.27, 0.45, 0.022997, 0.0565685424949238, 0.05, 2.1, 0.18248287590894657, 0.6, 0.45, 1.0, 0.677421582177598, 0.6852919086053768, 0.01, 0.3, 0.35, 0.036, 0.05, 0.3, 0.09, 0.5024937810560445, 0.14, 0.04, 0.074, 1.07, 0.2, 0.8, 0.24, 0.8162413858657254, 0.10295630140987, 3.0402960382173316, 0.562, 0.11009613980517209, 0.61, 0.57, 0.03, 0.21, 0.7, 0.056, 0.45, 0.47, 0.36, 0.09, 0.127, 0.4, 0.31, 0.2, 0.5, 0.56, 0.1, 0.098, 0.11346365056704283, 0.0282842712474619, 0.13, 0.7465929279064998, 0.4001249804748512, 0.022360679774997897, 0.027, 0.037, 0.223606797749979, 0.21142272820110897, 0.18, 0.08509406559801924, 0.05, 0.09, 0.1341640786499874, 0.044721359549995794, 0.2236, 0.02202271554554524, 0.6906518659932802, 0.13, 0.10028459502834919, 0.023, 0.032, 0.009, 0.8487638069569178, 0.4410215414239989, 0.08485281374238571, 0.2, 0.022360679774997897, 1.1476972597335937, 0.16827881625445315, 0.03162277660168379, 0.02, 0.05385164807134505, 0.06, 0.050447993022517755, 0.13515176654413363, 0.037, 0.16031219541881397, 0.10198039027185571, 0.4901020301937138, 0.01855693940282179, 0.28129877354869504, 0.05830951894845301, 0.3, 0.028, 0.022360679774997897, 0.5099019513592785, 0.1835755975068582, 0.4123105625617661, 3.82, 1.0, 0.7, 0.8, 0.4, 1.08, 0.04000612453112648, 0.02729468812791236, 0.17, 0.24186773244895649, 0.291547594742265, 0.38, 0.0608276253029822, 0.18690371852908652, 0.08028075734570521]\n"
     ]
    }
   ],
   "source": [
    "import matplotlib.pyplot as plt\n",
    "import numpy as np\n",
    "import scipy.stats as stats\n",
    "import scipy.optimize as opt\n",
    "import math\n",
    "import csv\n",
    "from matplotlib import rc, rcParams\n",
    "\n",
    "\n",
    "with open('pendulum.csv', mode ='r') as file:    \n",
    "       # csvFile = csv.reader(file)\n",
    "       csvFile = csv.DictReader(file)\n",
    "       lines = [line for line in csvFile]\n",
    "lines.pop(4)\n",
    "\n",
    "means = [float(line['g (m/s2)']) for line in lines]\n",
    "# means = [float(line[1]) for line in lines]\n",
    "print(max(means))\n",
    "\n",
    "## change percents into values\n",
    "lines[246 - 1][\"stat uncert\"] = 0.02 * means[246]\n",
    "lines[246 - 1][\"sys uncert\"] = 0.015 * means[246]\n",
    "## change unbalanced values into usable symmetric uncertainty (we care about range i guess and not actual start/end values here)\n",
    "lines[0][\"sys uncert\"] = (0.35 + 0.44)/2\n",
    "lines[133 - 1][\"stat uncert\"] = (0.0484 + 0.00196)/2\n",
    "lines[219 - 1][\"total uncert\"] = (0.14 + 0.37)/2\n",
    "\n",
    "bincenters = (bins[1][1:] + bins[1][:-1]) / 2\n",
    "bincounts = bins[0]\n",
    "# line[]\n",
    "sysdev = [float(line['sys uncert']) if line['sys uncert'] != '' else 0 for line in lines]\n",
    "\n",
    "statdev = [float(line['stat uncert']) if line['stat uncert'] != '' else 0 for line in lines]\n",
    "\n",
    "firsttotdev = [float(line['total uncert']) if line['total uncert'] != '' else 0 for line in lines]\n",
    "\n",
    "# print(f\"{len(means)} {len(sysdev)} {len(statdev)} {len(totdev)}\")\n",
    "\n",
    "# print(' '.join([str(j) if i == 0 else '' for j, i in enumerate(totdev)]))\n",
    "totdev = [math.sqrt(sysdev[i]**2 + statdev[i]**2) if tot == 0 else tot for (i, tot) in enumerate(firsttotdev)]\n",
    "print(' '.join([str(j) if i == 0 else '' for j, i in enumerate(totdev)]))\n",
    "totdev\n",
    "print(' '.join([str(j) if i == 0 else '' for j, i in enumerate(totdev)]))\n",
    "\n",
    "# okay it turns out some measurements really don't have uncertainty, so we can't use them for any better calculations\n",
    "# print(line[]['label'])\n",
    "\n",
    "naivedev = math.sqrt(sum([tot**2 for tot in totdev]) / len(totdev))\n",
    "print(naivedev)\n",
    "\n",
    "bestmean = sum([mean / totdev[i]**2 if totdev[i]!=0 else 0 for i, mean in enumerate(means)])/sum([1/tot**2 if tot != 0 else 0 for tot in totdev])\n",
    "print(bestmean)\n",
    "\n",
    "bestdev = len([1 for tot in totdev if tot != 0])/sum([1/tot**2 if tot != 0 else 0 for tot in totdev])\n",
    "bestdev\n",
    "print(sum([1/tot**2 if tot != 0 else 0 for tot in totdev]))\n",
    "trial = [(j, i) for j, i in enumerate(totdev) if i != 0]\n",
    "trial.remove((192, 2.5e-05)) # don't do that if you like\n",
    "print(min(trial, key = lambda t: t[1]))\n",
    "print(firsttotdev[192], means[192])\n",
    "print(len([1 for tot in trial])/sum([1/tot[1]**2 for tot in trial]))\n",
    "print(sum([means[i] / tot**2 for i, tot in trial])/sum([1/tot**2 for i, tot in trial]))\n",
    "\n",
    "means = [means[i] for i, tot in trial]\n",
    "devs = [tot for i, tot in trial]\n",
    "print(devs)"
   ]
  },
  {
   "cell_type": "code",
   "execution_count": 18,
   "metadata": {},
   "outputs": [
    {
     "data": {
      "image/png": "[encoded data removed]",
      "text/plain": [
       "<Figure size 640x480 with 1 Axes>"
      ]
     },
     "metadata": {},
     "output_type": "display_data"
    }
   ],
   "source": [
    "bins = plt.hist(means, 36, range=(0, 16), color=np.array([238,204,136]) / 255)\n"
   ]
  },
  {
   "cell_type": "code",
   "execution_count": 25,
   "metadata": {},
   "outputs": [
    {
     "name": "stdout",
     "output_type": "stream",
     "text": [
      "(356,)\n",
      "356\n",
      "36\n"
     ]
    },
    {
     "ename": "ValueError",
     "evalue": "`sigma` has incorrect shape.",
     "output_type": "error",
     "traceback": [
      "\u001b[0;31m---------------------------------------------------------------------------\u001b[0m",
      "\u001b[0;31mValueError\u001b[0m                                Traceback (most recent call last)",
      "Cell \u001b[0;32mIn[25], line 7\u001b[0m\n\u001b[1;32m      5\u001b[0m \u001b[38;5;28mprint\u001b[39m(\u001b[38;5;28mlen\u001b[39m(means))\n\u001b[1;32m      6\u001b[0m \u001b[38;5;28mprint\u001b[39m(\u001b[38;5;28mlen\u001b[39m(bincounts))\n\u001b[0;32m----> 7\u001b[0m popt, pcov \u001b[38;5;241m=\u001b[39m \u001b[43mopt\u001b[49m\u001b[38;5;241;43m.\u001b[39;49m\u001b[43mcurve_fit\u001b[49m\u001b[43m(\u001b[49m\u001b[43mf\u001b[49m\u001b[38;5;241;43m=\u001b[39;49m\u001b[43mgaussian\u001b[49m\u001b[43m,\u001b[49m\u001b[43m \u001b[49m\u001b[43mxdata\u001b[49m\u001b[38;5;241;43m=\u001b[39;49m\u001b[43mbincenters\u001b[49m\u001b[43m,\u001b[49m\u001b[43m \u001b[49m\u001b[43mydata\u001b[49m\u001b[38;5;241;43m=\u001b[39;49m\u001b[43mbincounts\u001b[49m\u001b[43m,\u001b[49m\u001b[43m \u001b[49m\u001b[43msigma\u001b[49m\u001b[38;5;241;43m=\u001b[39;49m\u001b[43mdevs\u001b[49m\u001b[43m)\u001b[49m\n",
      "File \u001b[0;32m/opt/homebrew/Caskroom/miniconda/base/lib/python3.11/site-packages/scipy/optimize/_minpack_py.py:985\u001b[0m, in \u001b[0;36mcurve_fit\u001b[0;34m(f, xdata, ydata, p0, sigma, absolute_sigma, check_finite, bounds, method, jac, full_output, nan_policy, **kwargs)\u001b[0m\n\u001b[1;32m    983\u001b[0m             \u001b[38;5;28;01mraise\u001b[39;00m \u001b[38;5;167;01mValueError\u001b[39;00m(\u001b[38;5;124m\"\u001b[39m\u001b[38;5;124m`sigma` must be positive definite.\u001b[39m\u001b[38;5;124m\"\u001b[39m) \u001b[38;5;28;01mfrom\u001b[39;00m \u001b[38;5;21;01me\u001b[39;00m\n\u001b[1;32m    984\u001b[0m     \u001b[38;5;28;01melse\u001b[39;00m:\n\u001b[0;32m--> 985\u001b[0m         \u001b[38;5;28;01mraise\u001b[39;00m \u001b[38;5;167;01mValueError\u001b[39;00m(\u001b[38;5;124m\"\u001b[39m\u001b[38;5;124m`sigma` has incorrect shape.\u001b[39m\u001b[38;5;124m\"\u001b[39m)\n\u001b[1;32m    986\u001b[0m \u001b[38;5;28;01melse\u001b[39;00m:\n\u001b[1;32m    987\u001b[0m     transform \u001b[38;5;241m=\u001b[39m \u001b[38;5;28;01mNone\u001b[39;00m\n",
      "\u001b[0;31mValueError\u001b[0m: `sigma` has incorrect shape."
     ]
    }
   ],
   "source": [
    "def gaussian(mean, variance):\n",
    "    return 1/np.sqrt(np.pi * 2 * variance) * np.exp(-(x - mean) ** 2 / (2 * variance))\n",
    "devs = np.array(devs)\n",
    "print(devs.shape)\n",
    "print(len(means))\n",
    "print(len(bincounts))\n",
    "popt, pcov = opt.curve_fit(f=gaussian, xdata=bincenters, ydata=bincounts, sigma=devs)"
   ]
  },
  {
   "cell_type": "code",
   "execution_count": null,
   "metadata": {},
   "outputs": [],
   "source": []
  }
 ],
 "metadata": {
  "kernelspec": {
   "display_name": "base",
   "language": "python",
   "name": "python3"
  },
  "language_info": {
   "codemirror_mode": {
    "name": "ipython",
    "version": 3
   },
   "file_extension": ".py",
   "mimetype": "text/x-python",
   "name": "python",
   "nbconvert_exporter": "python",
   "pygments_lexer": "ipython3",
   "version": "3.11.8"
  }
 },
 "nbformat": 4,
 "nbformat_minor": 2
}
